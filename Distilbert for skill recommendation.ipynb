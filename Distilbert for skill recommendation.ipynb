{
 "cells": [
  {
   "cell_type": "code",
   "execution_count": null,
   "id": "3cab24da",
   "metadata": {},
   "outputs": [],
   "source": [
    "import pandas as pd\n",
    "import json\n",
    "import torch\n",
    "from torch.utils.data import Dataset, DataLoader\n",
    "from transformers import DistilBertTokenizer, DistilBertForSequenceClassification, Trainer, TrainingArguments"
   ]
  },
  {
   "cell_type": "code",
   "execution_count": null,
   "id": "af32d116",
   "metadata": {},
   "outputs": [],
   "source": [
    "with open(\"gig_workers_synthdata.json\", \"r\") as f:\n",
    "    train_data = json.load(f)"
   ]
  },
  {
   "cell_type": "code",
   "execution_count": null,
   "id": "0a4b1949",
   "metadata": {},
   "outputs": [],
   "source": [
    "# train_data"
   ]
  },
  {
   "cell_type": "code",
   "execution_count": null,
   "id": "470bf412",
   "metadata": {},
   "outputs": [],
   "source": [
    "train_records = []\n",
    "for record in train_data:\n",
    "    input_data = record['input']\n",
    "    output_data = record['output']\n",
    "    \n",
    "    # Construct a single record for the DataFrame\n",
    "    train_records.append({\n",
    "        'input': f\"Worker ID: {input_data['Worker ID']}, Task History: {input_data['Task History']}, \"\n",
    "                  f\"Earnings: {input_data['Earnings']}, Rating: {input_data['Rating']}, \"\n",
    "                  f\"Current Skills: {input_data['Current Skills']}, \"\n",
    "                  f\"Experience Level: {input_data['Experience Level']}, \"\n",
    "                  f\"Job Count: {input_data['Job Count']}, \"\n",
    "                  f\"Time Spent on Gigs: {input_data['Time Spent on Gigs']}\",\n",
    "        'output': output_data['Recommended Skills']\n",
    "    })\n",
    "\n",
    "train_df = pd.DataFrame(train_records)\n",
    "\n",
    "# Extract unique skills from the output\n",
    "unique_skills = set()\n",
    "for output in train_df['output']:\n",
    "    unique_skills.update(output.split(\", \"))  # Assuming skills are separated by commas\n",
    "\n",
    "# Create a sorted list of unique skills\n",
    "unique_skills = sorted(list(unique_skills))\n"
   ]
  },
  {
   "cell_type": "code",
   "execution_count": null,
   "id": "19d70135",
   "metadata": {},
   "outputs": [],
   "source": [
    "class SkillRecommendationDataset(Dataset):\n",
    "    def __init__(self, data, tokenizer, skill_set):\n",
    "        self.data = data\n",
    "        self.tokenizer = tokenizer\n",
    "        self.skill_set = skill_set  # List of unique skills\n",
    "\n",
    "    def __len__(self):\n",
    "        return len(self.data)\n",
    "\n",
    "    def __getitem__(self, idx):\n",
    "        input_text = self.data.iloc[idx]['input']\n",
    "        output_text = self.data.iloc[idx]['output']\n",
    "\n",
    "        # Ensure that input and output are strings\n",
    "        if not isinstance(input_text, str) or not isinstance(output_text, str):\n",
    "            raise ValueError(f\"Input or output at index {idx} is not a string.\")\n",
    "\n",
    "        # Tokenize the input\n",
    "        inputs = self.tokenizer(\n",
    "            input_text,\n",
    "            padding='max_length',\n",
    "            truncation=True,\n",
    "            max_length=512,\n",
    "            return_tensors='pt'\n",
    "        )\n",
    "\n",
    "        # Prepare the label\n",
    "        labels = torch.zeros(len(self.skill_set))  # Create a tensor of zeros for each unique skill\n",
    "        recommended_skills = output_text.split(\", \")  # Split the output into individual skills\n",
    "        for skill in recommended_skills:\n",
    "            if skill in self.skill_set:\n",
    "                labels[self.skill_set.index(skill)] = 1  # Set to 1 for skills that are recommended\n",
    "\n",
    "        labels = labels.long()  # Ensure labels are of type long\n",
    "\n",
    "        # Remove the batch dimension\n",
    "        inputs = {k: v.squeeze(0) for k, v in inputs.items()}\n",
    "\n",
    "        # Add labels to the input dictionary\n",
    "        inputs['labels'] = labels\n",
    "\n",
    "        print(f\"Input IDs size: {inputs['input_ids'].size()}\")\n",
    "        print(f\"Labels size: {labels.size()}\")\n",
    "    \n",
    "        return inputs"
   ]
  },
  {
   "cell_type": "code",
   "execution_count": null,
   "id": "f4b731f1",
   "metadata": {},
   "outputs": [],
   "source": [
    "# Load the DistilBERT tokenizer\n",
    "tokenizer = DistilBertTokenizer.from_pretrained(\"distilbert-base-uncased\")"
   ]
  },
  {
   "cell_type": "code",
   "execution_count": null,
   "id": "74b391cd",
   "metadata": {},
   "outputs": [],
   "source": [
    "# Create the dataset and dataloader\n",
    "train_dataset = SkillRecommendationDataset(train_df, tokenizer, unique_skills)\n",
    "train_loader = DataLoader(train_dataset, batch_size=4, shuffle=True)"
   ]
  },
  {
   "cell_type": "code",
   "execution_count": null,
   "id": "ee3b2a69",
   "metadata": {},
   "outputs": [],
   "source": [
    "num_labels = len(unique_skills) \n",
    "model = DistilBertForSequenceClassification.from_pretrained(\"distilbert-base-uncased\", num_labels=num_labels)\n",
    "\n",
    "# training arguments\n",
    "training_args = TrainingArguments(\n",
    "    output_dir=\"./distilbert-skill-recommendation\",\n",
    "    num_train_epochs=3,\n",
    "    per_device_train_batch_size=4,\n",
    "    save_steps=10,\n",
    "    save_total_limit=2,\n",
    "    logging_dir=\"./logs\",\n",
    "    logging_steps=5,\n",
    ")"
   ]
  },
  {
   "cell_type": "code",
   "execution_count": null,
   "id": "3a93e224",
   "metadata": {},
   "outputs": [],
   "source": [
    "# Initialize Trainer\n",
    "trainer = Trainer(\n",
    "    model=model,\n",
    "    args=training_args,\n",
    "    train_dataset=train_dataset,)"
   ]
  },
  {
   "cell_type": "code",
   "execution_count": null,
   "id": "4a9b9d89",
   "metadata": {
    "scrolled": false
   },
   "outputs": [],
   "source": [
    "trainer.train()"
   ]
  },
  {
   "cell_type": "code",
   "execution_count": null,
   "id": "84cdcfbb",
   "metadata": {},
   "outputs": [],
   "source": [
    "model.save_pretrained(\"./distilbert-skill-recommendation\")\n",
    "tokenizer.save_pretrained(\"./distilbert-skill-recommendation\")"
   ]
  },
  {
   "cell_type": "code",
   "execution_count": null,
   "id": "431d8b3b",
   "metadata": {},
   "outputs": [],
   "source": []
  },
  {
   "cell_type": "code",
   "execution_count": null,
   "id": "7abfc8bf",
   "metadata": {},
   "outputs": [],
   "source": []
  },
  {
   "cell_type": "code",
   "execution_count": null,
   "id": "92442e26",
   "metadata": {},
   "outputs": [],
   "source": []
  },
  {
   "cell_type": "code",
   "execution_count": null,
   "id": "b6aee96e",
   "metadata": {},
   "outputs": [],
   "source": []
  }
 ],
 "metadata": {
  "kernelspec": {
   "display_name": "Python 3 (ipykernel)",
   "language": "python",
   "name": "python3"
  },
  "language_info": {
   "codemirror_mode": {
    "name": "ipython",
    "version": 3
   },
   "file_extension": ".py",
   "mimetype": "text/x-python",
   "name": "python",
   "nbconvert_exporter": "python",
   "pygments_lexer": "ipython3",
   "version": "3.11.4"
  }
 },
 "nbformat": 4,
 "nbformat_minor": 5
}
