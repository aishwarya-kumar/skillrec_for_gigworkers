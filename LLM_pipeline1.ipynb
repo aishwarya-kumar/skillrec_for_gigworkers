{
  "nbformat": 4,
  "nbformat_minor": 0,
  "metadata": {
    "colab": {
      "provenance": [],
      "authorship_tag": "ABX9TyPUUnDjcRT9idEzJGFlw9Ye",
      "include_colab_link": true
    },
    "kernelspec": {
      "name": "python3",
      "display_name": "Python 3"
    },
    "language_info": {
      "name": "python"
    }
  },
  "cells": [
    {
      "cell_type": "markdown",
      "metadata": {
        "id": "view-in-github",
        "colab_type": "text"
      },
      "source": [
        "<a href=\"https://colab.research.google.com/github/aishwarya-kumar/skillrec_for_gigworkers/blob/main/LLM_pipeline1.ipynb\" target=\"_parent\"><img src=\"https://colab.research.google.com/assets/colab-badge.svg\" alt=\"Open In Colab\"/></a>"
      ]
    },
    {
      "cell_type": "code",
      "source": [
        "# !pip install langchain\n",
        "# !pip install langchain_community\n",
        "# !pip install transformers torch"
      ],
      "metadata": {
        "id": "Goy-bS1HGtPA"
      },
      "execution_count": 8,
      "outputs": []
    },
    {
      "cell_type": "code",
      "execution_count": 1,
      "metadata": {
        "id": "U4EzvlVVBrfQ"
      },
      "outputs": [],
      "source": [
        "from langchain.llms import HuggingFacePipeline\n",
        "from langchain.chains import LLMChain, SequentialChain\n",
        "from langchain.prompts import PromptTemplate\n",
        "from transformers import AutoModelForCausalLM, AutoTokenizer, pipeline\n",
        "import torch"
      ]
    },
    {
      "cell_type": "code",
      "source": [
        "!huggingface-cli login"
      ],
      "metadata": {
        "colab": {
          "base_uri": "https://localhost:8080/"
        },
        "id": "fzEw0TGfID3_",
        "outputId": "8064fc00-b5de-4801-aaa2-72d122fed547"
      },
      "execution_count": 2,
      "outputs": [
        {
          "output_type": "stream",
          "name": "stdout",
          "text": [
            "\n",
            "    _|    _|  _|    _|    _|_|_|    _|_|_|  _|_|_|  _|      _|    _|_|_|      _|_|_|_|    _|_|      _|_|_|  _|_|_|_|\n",
            "    _|    _|  _|    _|  _|        _|          _|    _|_|    _|  _|            _|        _|    _|  _|        _|\n",
            "    _|_|_|_|  _|    _|  _|  _|_|  _|  _|_|    _|    _|  _|  _|  _|  _|_|      _|_|_|    _|_|_|_|  _|        _|_|_|\n",
            "    _|    _|  _|    _|  _|    _|  _|    _|    _|    _|    _|_|  _|    _|      _|        _|    _|  _|        _|\n",
            "    _|    _|    _|_|      _|_|_|    _|_|_|  _|_|_|  _|      _|    _|_|_|      _|        _|    _|    _|_|_|  _|_|_|_|\n",
            "\n",
            "    A token is already saved on your machine. Run `huggingface-cli whoami` to get more information or `huggingface-cli logout` if you want to log out.\n",
            "    Setting a new token will erase the existing one.\n",
            "    To log in, `huggingface_hub` requires a token generated from https://huggingface.co/settings/tokens .\n",
            "Enter your token (input will not be visible): \n",
            "Add token as git credential? (Y/n) n\n",
            "Token is valid (permission: fineGrained).\n",
            "The token `tk1` has been saved to /root/.cache/huggingface/stored_tokens\n",
            "Your token has been saved to /root/.cache/huggingface/token\n",
            "Login successful.\n",
            "The current active token is: `tk1`\n"
          ]
        }
      ]
    },
    {
      "cell_type": "code",
      "source": [
        "model_name = \"meta-llama/Llama-3.2-1B-Instruct\"\n",
        "model = AutoModelForCausalLM.from_pretrained(model_name)\n",
        "tokenizer = AutoTokenizer.from_pretrained(model_name)\n"
      ],
      "metadata": {
        "colab": {
          "base_uri": "https://localhost:8080/"
        },
        "id": "IU0x7qCwG0C9",
        "outputId": "8d495c85-888a-42eb-c92d-291a3a91314f"
      },
      "execution_count": 3,
      "outputs": [
        {
          "output_type": "stream",
          "name": "stderr",
          "text": [
            "/usr/local/lib/python3.10/dist-packages/huggingface_hub/utils/_auth.py:94: UserWarning: \n",
            "The secret `HF_TOKEN` does not exist in your Colab secrets.\n",
            "To authenticate with the Hugging Face Hub, create a token in your settings tab (https://huggingface.co/settings/tokens), set it as secret in your Google Colab and restart your session.\n",
            "You will be able to reuse this secret in all of your notebooks.\n",
            "Please note that authentication is recommended but still optional to access public models or datasets.\n",
            "  warnings.warn(\n"
          ]
        }
      ]
    },
    {
      "cell_type": "code",
      "source": [
        "model.eval()"
      ],
      "metadata": {
        "colab": {
          "base_uri": "https://localhost:8080/"
        },
        "id": "m5sBr_RHIeYG",
        "outputId": "1120f4b7-dd37-4701-aae7-5984d806dae9"
      },
      "execution_count": 4,
      "outputs": [
        {
          "output_type": "execute_result",
          "data": {
            "text/plain": [
              "LlamaForCausalLM(\n",
              "  (model): LlamaModel(\n",
              "    (embed_tokens): Embedding(128256, 2048)\n",
              "    (layers): ModuleList(\n",
              "      (0-15): 16 x LlamaDecoderLayer(\n",
              "        (self_attn): LlamaSdpaAttention(\n",
              "          (q_proj): Linear(in_features=2048, out_features=2048, bias=False)\n",
              "          (k_proj): Linear(in_features=2048, out_features=512, bias=False)\n",
              "          (v_proj): Linear(in_features=2048, out_features=512, bias=False)\n",
              "          (o_proj): Linear(in_features=2048, out_features=2048, bias=False)\n",
              "          (rotary_emb): LlamaRotaryEmbedding()\n",
              "        )\n",
              "        (mlp): LlamaMLP(\n",
              "          (gate_proj): Linear(in_features=2048, out_features=8192, bias=False)\n",
              "          (up_proj): Linear(in_features=2048, out_features=8192, bias=False)\n",
              "          (down_proj): Linear(in_features=8192, out_features=2048, bias=False)\n",
              "          (act_fn): SiLU()\n",
              "        )\n",
              "        (input_layernorm): LlamaRMSNorm((2048,), eps=1e-05)\n",
              "        (post_attention_layernorm): LlamaRMSNorm((2048,), eps=1e-05)\n",
              "      )\n",
              "    )\n",
              "    (norm): LlamaRMSNorm((2048,), eps=1e-05)\n",
              "    (rotary_emb): LlamaRotaryEmbedding()\n",
              "  )\n",
              "  (lm_head): Linear(in_features=2048, out_features=128256, bias=False)\n",
              ")"
            ]
          },
          "metadata": {},
          "execution_count": 4
        }
      ]
    },
    {
      "cell_type": "code",
      "source": [
        "device = \"cuda\" if torch.cuda.is_available() else \"cpu\"\n",
        "model.to(device)"
      ],
      "metadata": {
        "colab": {
          "base_uri": "https://localhost:8080/"
        },
        "id": "bqzyS805Ieec",
        "outputId": "8a8260f8-3a17-4c30-e979-bb07dcd73e48"
      },
      "execution_count": 5,
      "outputs": [
        {
          "output_type": "execute_result",
          "data": {
            "text/plain": [
              "LlamaForCausalLM(\n",
              "  (model): LlamaModel(\n",
              "    (embed_tokens): Embedding(128256, 2048)\n",
              "    (layers): ModuleList(\n",
              "      (0-15): 16 x LlamaDecoderLayer(\n",
              "        (self_attn): LlamaSdpaAttention(\n",
              "          (q_proj): Linear(in_features=2048, out_features=2048, bias=False)\n",
              "          (k_proj): Linear(in_features=2048, out_features=512, bias=False)\n",
              "          (v_proj): Linear(in_features=2048, out_features=512, bias=False)\n",
              "          (o_proj): Linear(in_features=2048, out_features=2048, bias=False)\n",
              "          (rotary_emb): LlamaRotaryEmbedding()\n",
              "        )\n",
              "        (mlp): LlamaMLP(\n",
              "          (gate_proj): Linear(in_features=2048, out_features=8192, bias=False)\n",
              "          (up_proj): Linear(in_features=2048, out_features=8192, bias=False)\n",
              "          (down_proj): Linear(in_features=8192, out_features=2048, bias=False)\n",
              "          (act_fn): SiLU()\n",
              "        )\n",
              "        (input_layernorm): LlamaRMSNorm((2048,), eps=1e-05)\n",
              "        (post_attention_layernorm): LlamaRMSNorm((2048,), eps=1e-05)\n",
              "      )\n",
              "    )\n",
              "    (norm): LlamaRMSNorm((2048,), eps=1e-05)\n",
              "    (rotary_emb): LlamaRotaryEmbedding()\n",
              "  )\n",
              "  (lm_head): Linear(in_features=2048, out_features=128256, bias=False)\n",
              ")"
            ]
          },
          "metadata": {},
          "execution_count": 5
        }
      ]
    },
    {
      "cell_type": "code",
      "source": [
        "# hf_pipeline = pipeline('text-generation', model=model, tokenizer=tokenizer, device=0 if device == 'cuda' else -1)\n",
        "hf_pipeline = pipeline(\n",
        "    'text-generation',\n",
        "    model=model,\n",
        "    tokenizer=tokenizer,\n",
        "    device=0 if device == \"cuda\" else -1,\n",
        "    max_length=200,\n",
        "    max_new_tokens=150\n",
        ")\n",
        "\n",
        "llm = HuggingFacePipeline(pipeline=hf_pipeline)"
      ],
      "metadata": {
        "colab": {
          "base_uri": "https://localhost:8080/"
        },
        "id": "G6ndDeNZIm5V",
        "outputId": "1bfbf8cf-efa6-4d34-9a82-e17bfe83d9fe"
      },
      "execution_count": 6,
      "outputs": [
        {
          "output_type": "stream",
          "name": "stderr",
          "text": [
            "<ipython-input-6-7565a7aea5b4>:11: LangChainDeprecationWarning: The class `HuggingFacePipeline` was deprecated in LangChain 0.0.37 and will be removed in 1.0. An updated version of the class exists in the :class:`~langchain-huggingface package and should be used instead. To use it run `pip install -U :class:`~langchain-huggingface` and import as `from :class:`~langchain_huggingface import HuggingFacePipeline``.\n",
            "  llm = HuggingFacePipeline(pipeline=hf_pipeline)\n"
          ]
        }
      ]
    },
    {
      "cell_type": "code",
      "source": [
        "market_trends_prompt = PromptTemplate(\n",
        "    input_variables=[\"market_trends\"],\n",
        "    template=\"\"\"The following are the latest market trends: {market_trends}\n",
        "Explain to the user the top 3 in-demand job roles and the top 5 skills needed for each role in a clear and concise manner.\"\"\")\n",
        "\n",
        "market_trends_chain = LLMChain(llm=llm, prompt=market_trends_prompt, output_key=\"market_explanation\")"
      ],
      "metadata": {
        "colab": {
          "base_uri": "https://localhost:8080/"
        },
        "id": "wxXkKhpzIsmf",
        "outputId": "1881b4e4-e352-40a4-b560-be4a11f63e7b"
      },
      "execution_count": 7,
      "outputs": [
        {
          "output_type": "stream",
          "name": "stderr",
          "text": [
            "<ipython-input-7-1ed845e96a31>:6: LangChainDeprecationWarning: The class `LLMChain` was deprecated in LangChain 0.1.17 and will be removed in 1.0. Use :meth:`~RunnableSequence, e.g., `prompt | llm`` instead.\n",
            "  market_trends_chain = LLMChain(llm=llm, prompt=market_trends_prompt, output_key=\"market_explanation\")\n"
          ]
        }
      ]
    },
    {
      "cell_type": "code",
      "source": [
        "skill_mapping_prompt = PromptTemplate(\n",
        "    input_variables=[\"user_skills\", \"market_trends\"],\n",
        "    template=\"\"\"The user has the following skills: {user_skills}.\n",
        "Based on the market trends provided: {market_trends},\n",
        "1. Identify the top in-demand skills the user already has.\n",
        "2. Map the user's skills to transferable skills for the top job roles.\"\"\")\n",
        "\n",
        "skill_mapping_chain = LLMChain(llm=llm, prompt=skill_mapping_prompt, output_key=\"skill_mapping\")"
      ],
      "metadata": {
        "id": "ksbHJsMdJEQu"
      },
      "execution_count": 8,
      "outputs": []
    },
    {
      "cell_type": "code",
      "source": [
        "income_comparison_prompt = PromptTemplate(\n",
        "    input_variables=[\"current_income\", \"market_income\"],\n",
        "    template=\"\"\"The user's current income is {current_income} USD per hour.\n",
        "The market average incomes for the top job roles are as follows: {market_income}\n",
        "Identify the roles with higher income potential than the user's current role.\"\"\")\n",
        "\n",
        "income_comparison_chain = LLMChain(llm=llm, prompt=income_comparison_prompt, output_key=\"income_comparison\")"
      ],
      "metadata": {
        "id": "45GSXklKJJM0"
      },
      "execution_count": 9,
      "outputs": []
    },
    {
      "cell_type": "code",
      "source": [
        "career_recommendation_prompt = PromptTemplate(\n",
        "    input_variables=[\"skill_mapping\", \"income_comparison\"],\n",
        "    template=\"\"\"Based on the skill mapping results:\n",
        "{skill_mapping}\n",
        "And the income comparison results:\n",
        "{income_comparison}\n",
        "Recommend the top career role the user should switch to. Identify the skills needed for this role.\"\"\")\n",
        "\n",
        "career_recommendation_chain = LLMChain(llm=llm, prompt=career_recommendation_prompt, output_key=\"career_recommendation\")"
      ],
      "metadata": {
        "id": "SOrov6-mJUvJ"
      },
      "execution_count": 10,
      "outputs": []
    },
    {
      "cell_type": "code",
      "source": [
        "upskilling_prompt = PromptTemplate(\n",
        "    input_variables=[\"career_recommendation\"],\n",
        "    template=\"\"\"The user should switch to the following career role: {career_recommendation}\n",
        "\n",
        "Provide a detailed guide on how the user can obtain the required skills for this career switch.\"\"\")\n",
        "\n",
        "upskilling_chain = LLMChain(llm=llm, prompt=upskilling_prompt, output_key=\"upskilling_directions\")"
      ],
      "metadata": {
        "id": "Lw2CEe9IJU0T"
      },
      "execution_count": 11,
      "outputs": []
    },
    {
      "cell_type": "code",
      "source": [
        "pipeline = SequentialChain(\n",
        "    chains=[market_trends_chain, skill_mapping_chain, income_comparison_chain, career_recommendation_chain, upskilling_chain],\n",
        "    input_variables=[\"market_trends\", \"user_skills\", \"current_income\", \"market_income\"],\n",
        "    output_variables=[\"market_explanation\", \"skill_mapping\", \"income_comparison\", \"career_recommendation\", \"upskilling_directions\"]\n",
        ")"
      ],
      "metadata": {
        "id": "2elEdcoBJm0Q"
      },
      "execution_count": 12,
      "outputs": []
    },
    {
      "cell_type": "code",
      "source": [
        "user_input = {\n",
        "    \"market_trends\": \"\"\"1. Data Scientist: Python, SQL, Machine Learning, Data Visualization, Cloud Computing\n",
        "2. Software Engineer: Java, C++, Git, Problem-Solving, Systems Design\n",
        "3. UX Designer: Wireframing, Prototyping, User Research, Figma, Graphic Design\"\"\",\n",
        "    \"user_skills\": \"Python, SQL, Data Visualization, Marketing Analytics\",\n",
        "    \"current_income\": \"40\",\n",
        "    \"market_income\": \"\"\"Data Scientist: 60 USD/hour\n",
        "Software Engineer: 50 USD/hour\n",
        "UX Designer: 45 USD/hour\"\"\"\n",
        "}"
      ],
      "metadata": {
        "id": "WdsTB9E1Jm3X"
      },
      "execution_count": 13,
      "outputs": []
    },
    {
      "cell_type": "code",
      "source": [
        "results = pipeline.invoke(user_input)"
      ],
      "metadata": {
        "colab": {
          "base_uri": "https://localhost:8080/"
        },
        "id": "6e8Yk2phJm63",
        "outputId": "0337a5b0-0eda-4079-9b8b-c1fbc0e93a15"
      },
      "execution_count": 14,
      "outputs": [
        {
          "output_type": "stream",
          "name": "stderr",
          "text": [
            "Truncation was not explicitly activated but `max_length` is provided a specific value, please use `truncation=True` to explicitly truncate examples to max length. Defaulting to 'longest_first' truncation strategy. If you encode pairs of sequences (GLUE-style) with the tokenizer you can select this strategy more precisely by providing a specific strategy to `truncation`.\n",
            "Setting `pad_token_id` to `eos_token_id`:None for open-end generation.\n",
            "Both `max_new_tokens` (=150) and `max_length`(=200) seem to have been set. `max_new_tokens` will take precedence. Please refer to the documentation for more information. (https://huggingface.co/docs/transformers/main/en/main_classes/text_generation)\n",
            "Setting `pad_token_id` to `eos_token_id`:None for open-end generation.\n",
            "Both `max_new_tokens` (=150) and `max_length`(=200) seem to have been set. `max_new_tokens` will take precedence. Please refer to the documentation for more information. (https://huggingface.co/docs/transformers/main/en/main_classes/text_generation)\n",
            "Setting `pad_token_id` to `eos_token_id`:None for open-end generation.\n",
            "Both `max_new_tokens` (=150) and `max_length`(=200) seem to have been set. `max_new_tokens` will take precedence. Please refer to the documentation for more information. (https://huggingface.co/docs/transformers/main/en/main_classes/text_generation)\n",
            "Setting `pad_token_id` to `eos_token_id`:None for open-end generation.\n",
            "Both `max_new_tokens` (=150) and `max_length`(=200) seem to have been set. `max_new_tokens` will take precedence. Please refer to the documentation for more information. (https://huggingface.co/docs/transformers/main/en/main_classes/text_generation)\n",
            "Setting `pad_token_id` to `eos_token_id`:None for open-end generation.\n",
            "Both `max_new_tokens` (=150) and `max_length`(=200) seem to have been set. `max_new_tokens` will take precedence. Please refer to the documentation for more information. (https://huggingface.co/docs/transformers/main/en/main_classes/text_generation)\n"
          ]
        }
      ]
    },
    {
      "cell_type": "code",
      "source": [
        "print(\"Market Trends Explanation:\\n\", results[\"market_explanation\"])\n",
        "print(\"Skill Mapping:\\n\", results[\"skill_mapping\"])\n",
        "print(\"Income Comparison:\\n\", results[\"income_comparison\"])\n",
        "print(\"Career Recommendation:\\n\", results[\"career_recommendation\"])\n",
        "print(\"Upskilling Directions:\\n\", results[\"upskilling_directions\"])"
      ],
      "metadata": {
        "colab": {
          "base_uri": "https://localhost:8080/"
        },
        "id": "bw1U0ajWJwy7",
        "outputId": "607652fc-3413-45e7-a4d5-767e72e2407c"
      },
      "execution_count": 15,
      "outputs": [
        {
          "output_type": "stream",
          "name": "stdout",
          "text": [
            "Market Trends Explanation:\n",
            " The following are the latest market trends: 1. Data Scientist: Python, SQL, Machine Learning, Data Visualization, Cloud Computing\n",
            "2. Software Engineer: Java, C++, Git, Problem-Solving, Systems Design\n",
            "3. UX Designer: Wireframing, Prototyping, User Research, Figma, Graphic Design\n",
            "Explain to the user the top 3 in-demand job roles and the top 5 skills needed for each role in a clear and concise manner. Here are the explanations:\n",
            "**Data Scientist:**\n",
            "Data scientists are the go-to professionals for organizations looking to make data-driven decisions. They are in high demand, and their skills are in high demand. Here are the top 3 in-demand job roles and the top 5 skills needed for each role:\n",
            "* **Job Role 1: Business Intelligence Analyst**\n",
            "\t+ Job Description: Analyze and interpret complex data to identify trends and patterns, and present findings to stakeholders.\n",
            "\t+ Required Skills:\n",
            "\t\t1. Data Analysis and Visualization\n",
            "\t\t2. Statistical Modeling\n",
            "\t\t3. Machine Learning\n",
            "\t\t4. Data Mining\n",
            "\t\t5. SQL and NoSQL Databases\n",
            "* **Job Role 2: Machine Learning\n",
            "Skill Mapping:\n",
            " The user has the following skills: Python, SQL, Data Visualization, Marketing Analytics.\n",
            "Based on the market trends provided: 1. Data Scientist: Python, SQL, Machine Learning, Data Visualization, Cloud Computing\n",
            "2. Software Engineer: Java, C++, Git, Problem-Solving, Systems Design\n",
            "3. UX Designer: Wireframing, Prototyping, User Research, Figma, Graphic Design,\n",
            "1. Identify the top in-demand skills the user already has.\n",
            "2. Map the user's skills to transferable skills for the top job roles. \n",
            "3. Suggest how to leverage the user's skills to increase their chances of getting hired by a company.\n",
            "\n",
            "## Step 1: Identify the top in-demand skills the user already has.\n",
            "Based on the provided market trends, the user already has the following in-demand skills:\n",
            "- Python\n",
            "- SQL\n",
            "- Data Visualization\n",
            "- Marketing Analytics\n",
            "\n",
            "## Step 2: Map the user's skills to transferable skills for the top job roles.\n",
            "For the Data Scientist role:\n",
            "- Python is a fundamental skill, and the user already has it.\n",
            "- SQL is also a fundamental skill, and the user already has it.\n",
            "- Data Visualization is a transferable skill, as the user can apply their data analysis skills to create visualizations.\n",
            "- Marketing\n",
            "Income Comparison:\n",
            " The user's current income is 40 USD per hour.\n",
            "The market average incomes for the top job roles are as follows: Data Scientist: 60 USD/hour\n",
            "Software Engineer: 50 USD/hour\n",
            "UX Designer: 45 USD/hour\n",
            "Identify the roles with higher income potential than the user's current role. \n",
            "\n",
            "## Step 1: Calculate the user's current hourly wage\n",
            "The user's current hourly wage is 40 USD.\n",
            "\n",
            "## Step 2: Compare the user's current hourly wage to the market average hourly wages for each role\n",
            "- Data Scientist: 60 USD/hour\n",
            "- Software Engineer: 50 USD/hour\n",
            "- UX Designer: 45 USD/hour\n",
            "\n",
            "## Step 3: Determine which roles have a higher income potential than the user's current role\n",
            "Based on the market average hourly wages, Data Scientist has the highest income potential at 60 USD/hour, which is higher than the user's current role of 40 USD/hour.\n",
            "\n",
            "## Step 4: Identify the role with the highest income potential\n",
            "The\n",
            "Career Recommendation:\n",
            " Based on the skill mapping results:\n",
            "The user has the following skills: Python, SQL, Data Visualization, Marketing Analytics.\n",
            "Based on the market trends provided: 1. Data Scientist: Python, SQL, Machine Learning, Data Visualization, Cloud Computing\n",
            "2. Software Engineer: Java, C++, Git, Problem-Solving, Systems Design\n",
            "3. UX Designer: Wireframing, Prototyping, User Research, Figma, Graphic Design,\n",
            "1. Identify the top in-demand skills the user already has.\n",
            "2. Map the user's skills to transferable skills for the top job roles. \n",
            "3. Suggest how to leverage the user's skills to increase their chances of getting hired by a company.\n",
            "\n",
            "## Step 1: Identify the top in-demand skills the user already has.\n",
            "Based on the provided market trends, the user already has the following in-demand skills:\n",
            "- Python\n",
            "- SQL\n",
            "- Data Visualization\n",
            "- Marketing Analytics\n",
            "\n",
            "## Step 2: Map the user's skills to transferable skills for the top job roles.\n",
            "For the Data Scientist role:\n",
            "- Python is a fundamental skill, and the user already has it.\n",
            "- SQL is also a fundamental skill, and the user already has it.\n",
            "- Data Visualization is a transferable skill, as the user can apply their data analysis skills to create visualizations.\n",
            "- Marketing\n",
            "And the income comparison results:\n",
            "The user's current income is 40 USD per hour.\n",
            "The market average incomes for the top job roles are as follows: Data Scientist: 60 USD/hour\n",
            "Software Engineer: 50 USD/hour\n",
            "UX Designer: 45 USD/hour\n",
            "Identify the roles with higher income potential than the user's current role. \n",
            "\n",
            "## Step 1: Calculate the user's current hourly wage\n",
            "The user's current hourly wage is 40 USD.\n",
            "\n",
            "## Step 2: Compare the user's current hourly wage to the market average hourly wages for each role\n",
            "- Data Scientist: 60 USD/hour\n",
            "- Software Engineer: 50 USD/hour\n",
            "- UX Designer: 45 USD/hour\n",
            "\n",
            "## Step 3: Determine which roles have a higher income potential than the user's current role\n",
            "Based on the market average hourly wages, Data Scientist has the highest income potential at 60 USD/hour, which is higher than the user's current role of 40 USD/hour.\n",
            "\n",
            "## Step 4: Identify the role with the highest income potential\n",
            "The\n",
            "Recommend the top career role the user should switch to. Identify the skills needed for this role. to transferable skills for the top job roles.\n",
            "For each of the top job roles mentioned in the market trends (Data Scientist, Software Engineer, UX Designer), we will identify the transferable skills that the user already has.\n",
            "\n",
            "### Data Scientist:\n",
            "- Python: Data analysis, machine learning, and data visualization are essential skills for data scientists.\n",
            "- SQL: Data analysis and data visualization are critical skills for data scientists.\n",
            "- Data Visualization: Data visualization is a key skill for data scientists to communicate complex data insights effectively.\n",
            "- Marketing Analytics: Data analysis and data visualization are also important skills for data scientists to understand customer behavior and preferences.\n",
            "\n",
            "### Software Engineer:\n",
            "- Python: Python is a fundamental skill for software engineers, and it's often used in software development\n",
            "Upskilling Directions:\n",
            " The user should switch to the following career role: Based on the skill mapping results:\n",
            "The user has the following skills: Python, SQL, Data Visualization, Marketing Analytics.\n",
            "Based on the market trends provided: 1. Data Scientist: Python, SQL, Machine Learning, Data Visualization, Cloud Computing\n",
            "2. Software Engineer: Java, C++, Git, Problem-Solving, Systems Design\n",
            "3. UX Designer: Wireframing, Prototyping, User Research, Figma, Graphic Design,\n",
            "1. Identify the top in-demand skills the user already has.\n",
            "2. Map the user's skills to transferable skills for the top job roles. \n",
            "3. Suggest how to leverage the user's skills to increase their chances of getting hired by a company.\n",
            "\n",
            "## Step 1: Identify the top in-demand skills the user already has.\n",
            "Based on the provided market trends, the user already has the following in-demand skills:\n",
            "- Python\n",
            "- SQL\n",
            "- Data Visualization\n",
            "- Marketing Analytics\n",
            "\n",
            "## Step 2: Map the user's skills to transferable skills for the top job roles.\n",
            "For the Data Scientist role:\n",
            "- Python is a fundamental skill, and the user already has it.\n",
            "- SQL is also a fundamental skill, and the user already has it.\n",
            "- Data Visualization is a transferable skill, as the user can apply their data analysis skills to create visualizations.\n",
            "- Marketing\n",
            "And the income comparison results:\n",
            "The user's current income is 40 USD per hour.\n",
            "The market average incomes for the top job roles are as follows: Data Scientist: 60 USD/hour\n",
            "Software Engineer: 50 USD/hour\n",
            "UX Designer: 45 USD/hour\n",
            "Identify the roles with higher income potential than the user's current role. \n",
            "\n",
            "## Step 1: Calculate the user's current hourly wage\n",
            "The user's current hourly wage is 40 USD.\n",
            "\n",
            "## Step 2: Compare the user's current hourly wage to the market average hourly wages for each role\n",
            "- Data Scientist: 60 USD/hour\n",
            "- Software Engineer: 50 USD/hour\n",
            "- UX Designer: 45 USD/hour\n",
            "\n",
            "## Step 3: Determine which roles have a higher income potential than the user's current role\n",
            "Based on the market average hourly wages, Data Scientist has the highest income potential at 60 USD/hour, which is higher than the user's current role of 40 USD/hour.\n",
            "\n",
            "## Step 4: Identify the role with the highest income potential\n",
            "The\n",
            "Recommend the top career role the user should switch to. Identify the skills needed for this role. to transferable skills for the top job roles.\n",
            "For each of the top job roles mentioned in the market trends (Data Scientist, Software Engineer, UX Designer), we will identify the transferable skills that the user already has.\n",
            "\n",
            "### Data Scientist:\n",
            "- Python: Data analysis, machine learning, and data visualization are essential skills for data scientists.\n",
            "- SQL: Data analysis and data visualization are critical skills for data scientists.\n",
            "- Data Visualization: Data visualization is a key skill for data scientists to communicate complex data insights effectively.\n",
            "- Marketing Analytics: Data analysis and data visualization are also important skills for data scientists to understand customer behavior and preferences.\n",
            "\n",
            "### Software Engineer:\n",
            "- Python: Python is a fundamental skill for software engineers, and it's often used in software development\n",
            "\n",
            "Provide a detailed guide on how the user can obtain the required skills for this career switch.## Step 2: Map the user's skills to transferable skills for the top job roles.\n",
            "- Python: Data Scientist, Software Engineer, Data Analyst\n",
            "- SQL: Data Scientist, Software Engineer, Data Analyst\n",
            "- Data Visualization: Data Scientist, Software Engineer, Data Analyst\n",
            "- Marketing Analytics: Data Scientist, Software Engineer, Data Analyst\n",
            "\n",
            "## Step 3: Suggest how to leverage the user's skills to increase their chances of getting hired by a company.\n",
            "- Python: Utilize Python skills in Data Scientist, Software Engineer, or Data Analyst roles.\n",
            "- SQL: Leverage SQL skills in Data Scientist, Software Engineer, or Data Analyst roles.\n",
            "- Data Visualization: Use data visualization skills in Data Scientist, Software Engineer, or Data\n"
          ]
        }
      ]
    },
    {
      "cell_type": "code",
      "source": [],
      "metadata": {
        "id": "AqLF-ZI-Jw2a"
      },
      "execution_count": null,
      "outputs": []
    }
  ]
}